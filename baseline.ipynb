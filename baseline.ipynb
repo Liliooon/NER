{
 "cells": [
  {
   "cell_type": "code",
   "execution_count": 1,
   "id": "sitting-selling",
   "metadata": {
    "ExecuteTime": {
     "end_time": "2021-01-22T22:17:12.967178Z",
     "start_time": "2021-01-22T22:17:12.951837Z"
    }
   },
   "outputs": [],
   "source": [
    "import json\n",
    "import os\n",
    "import logs_generator\n",
    "import base_model"
   ]
  },
  {
   "cell_type": "code",
   "execution_count": null,
   "id": "treated-draft",
   "metadata": {
    "ExecuteTime": {
     "end_time": "2021-01-22T22:17:25.670748Z",
     "start_time": "2021-01-22T22:17:23.659691Z"
    },
    "scrolled": true
   },
   "outputs": [],
   "source": [
    "os.remove('log.txt')\n",
    "logs_generator.main()"
   ]
  },
  {
   "cell_type": "code",
   "execution_count": 6,
   "id": "prompt-hours",
   "metadata": {
    "ExecuteTime": {
     "end_time": "2021-01-22T22:17:26.760445Z",
     "start_time": "2021-01-22T22:17:26.749789Z"
    },
    "scrolled": true
   },
   "outputs": [],
   "source": [
    "logs = {}\n",
    "\n",
    "with open('log.txt') as f:\n",
    "    for row in f:\n",
    "        try:\n",
    "            log, nes = row.split(':')\n",
    "            logs[log.strip()] = [ne.strip() for ne in nes.split(' , ')]\n",
    "            if logs[log.strip()] == ['']:\n",
    "                logs[log.strip()] = []\n",
    "        except ValueError:\n",
    "            logs[row.strip()] = []"
   ]
  },
  {
   "cell_type": "code",
   "execution_count": 7,
   "id": "vietnamese-motor",
   "metadata": {
    "ExecuteTime": {
     "end_time": "2021-01-22T22:17:27.614216Z",
     "start_time": "2021-01-22T22:17:27.610612Z"
    }
   },
   "outputs": [
    {
     "data": {
      "text/plain": [
       "989"
      ]
     },
     "execution_count": 7,
     "metadata": {},
     "output_type": "execute_result"
    }
   ],
   "source": [
    "len(logs)"
   ]
  },
  {
   "cell_type": "code",
   "execution_count": 9,
   "id": "possible-garlic",
   "metadata": {
    "ExecuteTime": {
     "end_time": "2021-01-22T22:17:38.263489Z",
     "start_time": "2021-01-22T22:17:38.243750Z"
    }
   },
   "outputs": [],
   "source": [
    "with open('dicts_with_regex.json', 'r', encoding='utf-8') as f:\n",
    "        dicts_with_regex = json.load(f)"
   ]
  },
  {
   "cell_type": "code",
   "execution_count": 10,
   "id": "british-width",
   "metadata": {
    "ExecuteTime": {
     "end_time": "2021-01-22T22:31:31.356792Z",
     "start_time": "2021-01-22T22:17:47.844920Z"
    }
   },
   "outputs": [
    {
     "name": "stdout",
     "output_type": "stream",
     "text": [
      "ИС найдены в 808 логах из 989\n"
     ]
    }
   ],
   "source": [
    "found_nes = base_model.find_nes(logs, dicts_with_regex)"
   ]
  },
  {
   "cell_type": "code",
   "execution_count": 11,
   "id": "headed-process",
   "metadata": {
    "ExecuteTime": {
     "end_time": "2021-01-22T22:31:49.847582Z",
     "start_time": "2021-01-22T22:31:49.833906Z"
    }
   },
   "outputs": [],
   "source": [
    "processed_logs = {}\n",
    "for log_nes in found_nes:\n",
    "    log = log_nes['log']\n",
    "    nes = [ne['ne'] for ne in log_nes['nes']]\n",
    "    processed_logs[log] = nes"
   ]
  },
  {
   "cell_type": "code",
   "execution_count": 12,
   "id": "atmospheric-optimum",
   "metadata": {
    "ExecuteTime": {
     "end_time": "2021-01-22T22:31:51.080865Z",
     "start_time": "2021-01-22T22:31:51.074530Z"
    }
   },
   "outputs": [],
   "source": [
    "def count_metrics(logs, processed_logs):\n",
    "    true_positives = 0\n",
    "    false_positives = 0\n",
    "    false_negatives = 0\n",
    "    \n",
    "    for log in processed_logs:\n",
    "        for ne in processed_logs[log]:\n",
    "            if ne in logs[log]:\n",
    "                true_positives += 1\n",
    "            else:\n",
    "                false_positives += 1\n",
    "        \n",
    "    for log in logs:\n",
    "        if log in processed_logs:\n",
    "            for ne in logs[log]:\n",
    "                if ne not in processed_logs[log]: \n",
    "                    false_negatives += 1\n",
    "        else:\n",
    "            false_negatives += len(logs[log])\n",
    "    \n",
    "    metrics = {}\n",
    "    precision = true_positives / (true_positives + false_positives)\n",
    "    metrics['precision'] = precision\n",
    "    recall = true_positives / (true_positives + false_negatives)\n",
    "    metrics['recall'] = recall\n",
    "    metrics['f1'] = 2 * precision * recall / (precision + recall)\n",
    "    return metrics"
   ]
  },
  {
   "cell_type": "code",
   "execution_count": 13,
   "id": "later-leisure",
   "metadata": {
    "ExecuteTime": {
     "end_time": "2021-01-22T22:31:51.901168Z",
     "start_time": "2021-01-22T22:31:51.896293Z"
    }
   },
   "outputs": [
    {
     "name": "stdout",
     "output_type": "stream",
     "text": [
      "precision 0.81\n",
      "recall 0.73\n",
      "f1 0.77\n"
     ]
    }
   ],
   "source": [
    "metrics = count_metrics(logs, processed_logs)\n",
    "for metric in metrics:\n",
    "    print(f'{metric} {round(metrics[metric], 2)}')"
   ]
  }
 ],
 "metadata": {
  "kernelspec": {
   "display_name": "Python 3",
   "language": "python",
   "name": "python3"
  },
  "language_info": {
   "codemirror_mode": {
    "name": "ipython",
    "version": 3
   },
   "file_extension": ".py",
   "mimetype": "text/x-python",
   "name": "python",
   "nbconvert_exporter": "python",
   "pygments_lexer": "ipython3",
   "version": "3.9.1"
  }
 },
 "nbformat": 4,
 "nbformat_minor": 5
}
