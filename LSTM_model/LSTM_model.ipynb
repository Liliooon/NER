{
 "cells": [
  {
   "cell_type": "code",
   "execution_count": 2,
   "id": "moved-hybrid",
   "metadata": {
    "ExecuteTime": {
     "end_time": "2021-03-12T13:10:29.359703Z",
     "start_time": "2021-03-12T13:10:28.148923Z"
    },
    "scrolled": true
   },
   "outputs": [
    {
     "name": "stdout",
     "output_type": "stream",
     "text": [
      "--2021-03-12 15:10:28--  https://raw.githubusercontent.com/Rexhaif/ner-dialogues-hackathon/master/data/train.conll\n",
      "Распознаётся raw.githubusercontent.com (raw.githubusercontent.com)… 185.199.111.133, 185.199.108.133, 185.199.109.133, ...\n",
      "Подключение к raw.githubusercontent.com (raw.githubusercontent.com)|185.199.111.133|:443... соединение установлено.\n",
      "HTTP-запрос отправлен. Ожидание ответа… 200 OK\n",
      "Длина: 126336 (123K) [text/plain]\n",
      "Сохранение в: «train.conll»\n",
      "\n",
      "train.conll         100%[===================>] 123,38K  --.-KB/s    за 0,07s   \n",
      "\n",
      "2021-03-12 15:10:28 (1,78 MB/s) - «train.conll» сохранён [126336/126336]\n",
      "\n",
      "--2021-03-12 15:10:28--  https://raw.githubusercontent.com/Rexhaif/ner-dialogues-hackathon/master/data/test.conll\n",
      "Распознаётся raw.githubusercontent.com (raw.githubusercontent.com)… 185.199.108.133, 185.199.109.133, 185.199.110.133, ...\n",
      "Подключение к raw.githubusercontent.com (raw.githubusercontent.com)|185.199.108.133|:443... соединение установлено.\n",
      "HTTP-запрос отправлен. Ожидание ответа… 200 OK\n",
      "Длина: 33767 (33K) [text/plain]\n",
      "Сохранение в: «test.conll»\n",
      "\n",
      "test.conll          100%[===================>]  32,98K  --.-KB/s    за 0,008s  \n",
      "\n",
      "2021-03-12 15:10:29 (3,88 MB/s) - «test.conll» сохранён [33767/33767]\n",
      "\n"
     ]
    }
   ],
   "source": [
    "!wget https://raw.githubusercontent.com/Rexhaif/ner-dialogues-hackathon/master/data/train.conll\n",
    "!wget https://raw.githubusercontent.com/Rexhaif/ner-dialogues-hackathon/master/data/test.conll"
   ]
  },
  {
   "cell_type": "code",
   "execution_count": 102,
   "id": "extra-afternoon",
   "metadata": {
    "ExecuteTime": {
     "end_time": "2021-03-12T15:09:09.783478Z",
     "start_time": "2021-03-12T15:09:09.780587Z"
    }
   },
   "outputs": [],
   "source": [
    "import keras\n",
    "import pymorphy2\n",
    "import spacy\n",
    "import pandas as pd\n",
    "import numpy as np"
   ]
  },
  {
   "cell_type": "code",
   "execution_count": 103,
   "id": "split-notion",
   "metadata": {
    "ExecuteTime": {
     "end_time": "2021-03-12T15:09:10.340240Z",
     "start_time": "2021-03-12T15:09:09.960835Z"
    }
   },
   "outputs": [],
   "source": [
    "nlp = spacy.load(\"en_core_web_sm\")\n",
    "\n",
    "morph = pymorphy2.MorphAnalyzer()"
   ]
  },
  {
   "cell_type": "code",
   "execution_count": 104,
   "id": "celtic-robertson",
   "metadata": {
    "ExecuteTime": {
     "end_time": "2021-03-12T15:09:10.344962Z",
     "start_time": "2021-03-12T15:09:10.341154Z"
    }
   },
   "outputs": [],
   "source": [
    "with open('train.conll') as train_f, open('test.conll') as test_f:\n",
    "    train_str = train_f.read()\n",
    "    test_str = test_f.read()"
   ]
  },
  {
   "cell_type": "code",
   "execution_count": 105,
   "id": "electrical-treaty",
   "metadata": {
    "ExecuteTime": {
     "end_time": "2021-03-12T15:09:10.347226Z",
     "start_time": "2021-03-12T15:09:10.345961Z"
    }
   },
   "outputs": [],
   "source": [
    "data_str = train_str + test_str"
   ]
  },
  {
   "cell_type": "code",
   "execution_count": 106,
   "id": "innovative-plasma",
   "metadata": {
    "ExecuteTime": {
     "end_time": "2021-03-12T15:09:10.527299Z",
     "start_time": "2021-03-12T15:09:10.522649Z"
    }
   },
   "outputs": [],
   "source": [
    "def get_word_pos(word, sent):\n",
    "    pos = morph.parse(word[0])[0].tag.POS\n",
    "    if not pos:\n",
    "        i = sent.index(word)\n",
    "        sent = ' '.join([tok[0] for tok in sent]).capitalize()\n",
    "        doc = nlp(sent)\n",
    "        pos = doc[i].pos_\n",
    "    return pos"
   ]
  },
  {
   "cell_type": "code",
   "execution_count": 133,
   "id": "allied-mineral",
   "metadata": {
    "ExecuteTime": {
     "end_time": "2021-03-12T15:10:41.187415Z",
     "start_time": "2021-03-12T15:10:41.174948Z"
    }
   },
   "outputs": [],
   "source": [
    "def parse_conll(conll_str):\n",
    "    sents = [tuple(sent.split()) for sent in conll_str.split('\\n\\n')]\n",
    "    splitted_sents = []\n",
    "    for i, sent in enumerate(sents):\n",
    "        it = iter(sent)\n",
    "        splitted_sents.append(list(zip(it, it)))\n",
    "    parsed_sents = [{'Sentence #': np.nan, 'Word': word[0], 'POS': get_word_pos(word, sent),\n",
    "                     'Tag': word[1]} if word_i\n",
    "                    else {'Sentence #': f'Sentence {sent_i+1}', 'Word': word[0], \n",
    "                          'POS': get_word_pos(word, sent), 'Tag': word[1]}\n",
    "                    for sent_i, sent in enumerate(splitted_sents) for word_i, word in enumerate(sent)]\n",
    "    return parsed_sents"
   ]
  },
  {
   "cell_type": "code",
   "execution_count": 134,
   "id": "ranging-disease",
   "metadata": {
    "ExecuteTime": {
     "end_time": "2021-03-12T15:10:41.350545Z",
     "start_time": "2021-03-12T15:10:41.346744Z"
    }
   },
   "outputs": [],
   "source": [
    "# train_sents = parse_conll(train_str)\n",
    "# test_sents = parse_conll(test_str)"
   ]
  },
  {
   "cell_type": "code",
   "execution_count": 135,
   "id": "found-appraisal",
   "metadata": {
    "ExecuteTime": {
     "end_time": "2021-03-12T15:10:48.828902Z",
     "start_time": "2021-03-12T15:10:41.535105Z"
    }
   },
   "outputs": [],
   "source": [
    "data_sents = parse_conll(data_str)"
   ]
  },
  {
   "cell_type": "code",
   "execution_count": 136,
   "id": "american-dubai",
   "metadata": {
    "ExecuteTime": {
     "end_time": "2021-03-12T15:10:48.835010Z",
     "start_time": "2021-03-12T15:10:48.829824Z"
    }
   },
   "outputs": [],
   "source": [
    "data = pd.DataFrame(data_sents)"
   ]
  },
  {
   "cell_type": "code",
   "execution_count": 137,
   "id": "corresponding-campbell",
   "metadata": {
    "ExecuteTime": {
     "end_time": "2021-03-12T15:10:48.841040Z",
     "start_time": "2021-03-12T15:10:48.836080Z"
    }
   },
   "outputs": [
    {
     "data": {
      "text/html": [
       "<div>\n",
       "<style scoped>\n",
       "    .dataframe tbody tr th:only-of-type {\n",
       "        vertical-align: middle;\n",
       "    }\n",
       "\n",
       "    .dataframe tbody tr th {\n",
       "        vertical-align: top;\n",
       "    }\n",
       "\n",
       "    .dataframe thead th {\n",
       "        text-align: right;\n",
       "    }\n",
       "</style>\n",
       "<table border=\"1\" class=\"dataframe\">\n",
       "  <thead>\n",
       "    <tr style=\"text-align: right;\">\n",
       "      <th></th>\n",
       "      <th>Sentence #</th>\n",
       "      <th>Word</th>\n",
       "      <th>POS</th>\n",
       "      <th>Tag</th>\n",
       "    </tr>\n",
       "  </thead>\n",
       "  <tbody>\n",
       "    <tr>\n",
       "      <th>0</th>\n",
       "      <td>Sentence 1</td>\n",
       "      <td>спой</td>\n",
       "      <td>VERB</td>\n",
       "      <td>O</td>\n",
       "    </tr>\n",
       "    <tr>\n",
       "      <th>1</th>\n",
       "      <td>NaN</td>\n",
       "      <td>из</td>\n",
       "      <td>PREP</td>\n",
       "      <td>O</td>\n",
       "    </tr>\n",
       "    <tr>\n",
       "      <th>2</th>\n",
       "      <td>NaN</td>\n",
       "      <td>шоколад</td>\n",
       "      <td>NOUN</td>\n",
       "      <td>B-FILM</td>\n",
       "    </tr>\n",
       "    <tr>\n",
       "      <th>3</th>\n",
       "      <td>NaN</td>\n",
       "      <td>песню</td>\n",
       "      <td>NOUN</td>\n",
       "      <td>O</td>\n",
       "    </tr>\n",
       "    <tr>\n",
       "      <th>4</th>\n",
       "      <td>NaN</td>\n",
       "      <td>LItaliano</td>\n",
       "      <td>NOUN</td>\n",
       "      <td>B-SONG</td>\n",
       "    </tr>\n",
       "    <tr>\n",
       "      <th>...</th>\n",
       "      <td>...</td>\n",
       "      <td>...</td>\n",
       "      <td>...</td>\n",
       "      <td>...</td>\n",
       "    </tr>\n",
       "    <tr>\n",
       "      <th>9077</th>\n",
       "      <td>NaN</td>\n",
       "      <td>лгунья</td>\n",
       "      <td>NOUN</td>\n",
       "      <td>I-BOOK</td>\n",
       "    </tr>\n",
       "    <tr>\n",
       "      <th>9078</th>\n",
       "      <td>Sentence 2521</td>\n",
       "      <td>давай</td>\n",
       "      <td>VERB</td>\n",
       "      <td>O</td>\n",
       "    </tr>\n",
       "    <tr>\n",
       "      <th>9079</th>\n",
       "      <td>NaN</td>\n",
       "      <td>послушаем</td>\n",
       "      <td>VERB</td>\n",
       "      <td>O</td>\n",
       "    </tr>\n",
       "    <tr>\n",
       "      <th>9080</th>\n",
       "      <td>NaN</td>\n",
       "      <td>авессалом</td>\n",
       "      <td>NOUN</td>\n",
       "      <td>B-BOOK</td>\n",
       "    </tr>\n",
       "    <tr>\n",
       "      <th>9081</th>\n",
       "      <td>NaN</td>\n",
       "      <td>авессалом</td>\n",
       "      <td>NOUN</td>\n",
       "      <td>I-BOOK</td>\n",
       "    </tr>\n",
       "  </tbody>\n",
       "</table>\n",
       "<p>9082 rows × 4 columns</p>\n",
       "</div>"
      ],
      "text/plain": [
       "         Sentence #       Word   POS     Tag\n",
       "0        Sentence 1       спой  VERB       O\n",
       "1               NaN         из  PREP       O\n",
       "2               NaN    шоколад  NOUN  B-FILM\n",
       "3               NaN      песню  NOUN       O\n",
       "4               NaN  LItaliano  NOUN  B-SONG\n",
       "...             ...        ...   ...     ...\n",
       "9077            NaN     лгунья  NOUN  I-BOOK\n",
       "9078  Sentence 2521      давай  VERB       O\n",
       "9079            NaN  послушаем  VERB       O\n",
       "9080            NaN  авессалом  NOUN  B-BOOK\n",
       "9081            NaN  авессалом  NOUN  I-BOOK\n",
       "\n",
       "[9082 rows x 4 columns]"
      ]
     },
     "execution_count": 137,
     "metadata": {},
     "output_type": "execute_result"
    }
   ],
   "source": [
    "data"
   ]
  },
  {
   "cell_type": "code",
   "execution_count": 138,
   "id": "owned-reach",
   "metadata": {
    "ExecuteTime": {
     "end_time": "2021-03-12T15:10:48.846372Z",
     "start_time": "2021-03-12T15:10:48.842181Z"
    }
   },
   "outputs": [],
   "source": [
    "from itertools import chain\n",
    "def get_dict_map(data, token_or_tag):\n",
    "    tok2idx = {}\n",
    "    idx2tok = {}\n",
    "    \n",
    "    if token_or_tag == 'token':\n",
    "        vocab = list(set(data['Word'].to_list()))\n",
    "    else:\n",
    "        vocab = list(set(data['Tag'].to_list()))\n",
    "    \n",
    "    idx2tok = {idx:tok for  idx, tok in enumerate(vocab)}\n",
    "    tok2idx = {tok:idx for  idx, tok in enumerate(vocab)}\n",
    "    return tok2idx, idx2tok\n",
    "\n",
    "\n",
    "token2idx, idx2token = get_dict_map(data, 'token')\n",
    "tag2idx, idx2tag = get_dict_map(data, 'tag')"
   ]
  },
  {
   "cell_type": "code",
   "execution_count": 139,
   "id": "under-rogers",
   "metadata": {
    "ExecuteTime": {
     "end_time": "2021-03-12T15:10:48.853829Z",
     "start_time": "2021-03-12T15:10:48.847228Z"
    }
   },
   "outputs": [
    {
     "data": {
      "text/html": [
       "<div>\n",
       "<style scoped>\n",
       "    .dataframe tbody tr th:only-of-type {\n",
       "        vertical-align: middle;\n",
       "    }\n",
       "\n",
       "    .dataframe tbody tr th {\n",
       "        vertical-align: top;\n",
       "    }\n",
       "\n",
       "    .dataframe thead th {\n",
       "        text-align: right;\n",
       "    }\n",
       "</style>\n",
       "<table border=\"1\" class=\"dataframe\">\n",
       "  <thead>\n",
       "    <tr style=\"text-align: right;\">\n",
       "      <th></th>\n",
       "      <th>Sentence #</th>\n",
       "      <th>Word</th>\n",
       "      <th>POS</th>\n",
       "      <th>Tag</th>\n",
       "      <th>Word_idx</th>\n",
       "      <th>Tag_idx</th>\n",
       "    </tr>\n",
       "  </thead>\n",
       "  <tbody>\n",
       "    <tr>\n",
       "      <th>0</th>\n",
       "      <td>Sentence 1</td>\n",
       "      <td>спой</td>\n",
       "      <td>VERB</td>\n",
       "      <td>O</td>\n",
       "      <td>2395</td>\n",
       "      <td>1</td>\n",
       "    </tr>\n",
       "    <tr>\n",
       "      <th>1</th>\n",
       "      <td>NaN</td>\n",
       "      <td>из</td>\n",
       "      <td>PREP</td>\n",
       "      <td>O</td>\n",
       "      <td>1460</td>\n",
       "      <td>1</td>\n",
       "    </tr>\n",
       "    <tr>\n",
       "      <th>2</th>\n",
       "      <td>NaN</td>\n",
       "      <td>шоколад</td>\n",
       "      <td>NOUN</td>\n",
       "      <td>B-FILM</td>\n",
       "      <td>2307</td>\n",
       "      <td>3</td>\n",
       "    </tr>\n",
       "    <tr>\n",
       "      <th>3</th>\n",
       "      <td>NaN</td>\n",
       "      <td>песню</td>\n",
       "      <td>NOUN</td>\n",
       "      <td>O</td>\n",
       "      <td>1817</td>\n",
       "      <td>1</td>\n",
       "    </tr>\n",
       "    <tr>\n",
       "      <th>4</th>\n",
       "      <td>NaN</td>\n",
       "      <td>LItaliano</td>\n",
       "      <td>NOUN</td>\n",
       "      <td>B-SONG</td>\n",
       "      <td>84</td>\n",
       "      <td>8</td>\n",
       "    </tr>\n",
       "  </tbody>\n",
       "</table>\n",
       "</div>"
      ],
      "text/plain": [
       "   Sentence #       Word   POS     Tag  Word_idx  Tag_idx\n",
       "0  Sentence 1       спой  VERB       O      2395        1\n",
       "1         NaN         из  PREP       O      1460        1\n",
       "2         NaN    шоколад  NOUN  B-FILM      2307        3\n",
       "3         NaN      песню  NOUN       O      1817        1\n",
       "4         NaN  LItaliano  NOUN  B-SONG        84        8"
      ]
     },
     "execution_count": 139,
     "metadata": {},
     "output_type": "execute_result"
    }
   ],
   "source": [
    "data['Word_idx'] = data['Word'].map(token2idx)\n",
    "data['Tag_idx'] = data['Tag'].map(tag2idx)\n",
    "data.head()"
   ]
  },
  {
   "cell_type": "code",
   "execution_count": 140,
   "id": "representative-drilling",
   "metadata": {
    "ExecuteTime": {
     "end_time": "2021-03-12T15:10:49.000448Z",
     "start_time": "2021-03-12T15:10:48.854516Z"
    }
   },
   "outputs": [
    {
     "name": "stderr",
     "output_type": "stream",
     "text": [
      "<ipython-input-140-04716ffa74c4>:4: FutureWarning: Indexing with multiple keys (implicitly converted to a tuple of keys) will be deprecated, use a list instead.\n",
      "  data_group = data_fillna.groupby(\n"
     ]
    },
    {
     "data": {
      "text/html": [
       "<div>\n",
       "<style scoped>\n",
       "    .dataframe tbody tr th:only-of-type {\n",
       "        vertical-align: middle;\n",
       "    }\n",
       "\n",
       "    .dataframe tbody tr th {\n",
       "        vertical-align: top;\n",
       "    }\n",
       "\n",
       "    .dataframe thead th {\n",
       "        text-align: right;\n",
       "    }\n",
       "</style>\n",
       "<table border=\"1\" class=\"dataframe\">\n",
       "  <thead>\n",
       "    <tr style=\"text-align: right;\">\n",
       "      <th></th>\n",
       "      <th>Sentence #</th>\n",
       "      <th>Word</th>\n",
       "      <th>POS</th>\n",
       "      <th>Tag</th>\n",
       "      <th>Word_idx</th>\n",
       "      <th>Tag_idx</th>\n",
       "    </tr>\n",
       "  </thead>\n",
       "  <tbody>\n",
       "    <tr>\n",
       "      <th>0</th>\n",
       "      <td>Sentence 1</td>\n",
       "      <td>[спой, из, шоколад, песню, LItaliano]</td>\n",
       "      <td>[VERB, PREP, NOUN, NOUN, NOUN]</td>\n",
       "      <td>[O, O, B-FILM, O, B-SONG]</td>\n",
       "      <td>[2395, 1460, 2307, 1817, 84]</td>\n",
       "      <td>[1, 1, 3, 1, 8]</td>\n",
       "    </tr>\n",
       "    <tr>\n",
       "      <th>1</th>\n",
       "      <td>Sentence 10</td>\n",
       "      <td>[проиграй, уэмом]</td>\n",
       "      <td>[VERB, NOUN]</td>\n",
       "      <td>[O, B-SINGER]</td>\n",
       "      <td>[2904, 71]</td>\n",
       "      <td>[1, 2]</td>\n",
       "    </tr>\n",
       "    <tr>\n",
       "      <th>2</th>\n",
       "      <td>Sentence 100</td>\n",
       "      <td>[давай, послушаем, долго, прощани]</td>\n",
       "      <td>[VERB, VERB, ADVB, NOUN]</td>\n",
       "      <td>[O, O, B-BOOK, I-BOOK]</td>\n",
       "      <td>[625, 2128, 2758, 684]</td>\n",
       "      <td>[1, 1, 4, 9]</td>\n",
       "    </tr>\n",
       "    <tr>\n",
       "      <th>3</th>\n",
       "      <td>Sentence 1000</td>\n",
       "      <td>[расскажи, хаи, хоупс]</td>\n",
       "      <td>[VERB, NOUN, NOUN]</td>\n",
       "      <td>[O, B-SONG, I-SONG]</td>\n",
       "      <td>[752, 2714, 3280]</td>\n",
       "      <td>[1, 8, 0]</td>\n",
       "    </tr>\n",
       "    <tr>\n",
       "      <th>4</th>\n",
       "      <td>Sentence 1001</td>\n",
       "      <td>[включи, джорни]</td>\n",
       "      <td>[VERB, NOUN]</td>\n",
       "      <td>[O, B-SINGER]</td>\n",
       "      <td>[2917, 1807]</td>\n",
       "      <td>[1, 2]</td>\n",
       "    </tr>\n",
       "  </tbody>\n",
       "</table>\n",
       "</div>"
      ],
      "text/plain": [
       "      Sentence #                                   Word  \\\n",
       "0     Sentence 1  [спой, из, шоколад, песню, LItaliano]   \n",
       "1    Sentence 10                      [проиграй, уэмом]   \n",
       "2   Sentence 100     [давай, послушаем, долго, прощани]   \n",
       "3  Sentence 1000                 [расскажи, хаи, хоупс]   \n",
       "4  Sentence 1001                       [включи, джорни]   \n",
       "\n",
       "                              POS                        Tag  \\\n",
       "0  [VERB, PREP, NOUN, NOUN, NOUN]  [O, O, B-FILM, O, B-SONG]   \n",
       "1                    [VERB, NOUN]              [O, B-SINGER]   \n",
       "2        [VERB, VERB, ADVB, NOUN]     [O, O, B-BOOK, I-BOOK]   \n",
       "3              [VERB, NOUN, NOUN]        [O, B-SONG, I-SONG]   \n",
       "4                    [VERB, NOUN]              [O, B-SINGER]   \n",
       "\n",
       "                       Word_idx          Tag_idx  \n",
       "0  [2395, 1460, 2307, 1817, 84]  [1, 1, 3, 1, 8]  \n",
       "1                    [2904, 71]           [1, 2]  \n",
       "2        [625, 2128, 2758, 684]     [1, 1, 4, 9]  \n",
       "3             [752, 2714, 3280]        [1, 8, 0]  \n",
       "4                  [2917, 1807]           [1, 2]  "
      ]
     },
     "execution_count": 140,
     "metadata": {},
     "output_type": "execute_result"
    }
   ],
   "source": [
    "# Fill na\n",
    "data_fillna = data.fillna(method='ffill', axis=0)\n",
    "# Groupby and collect columns\n",
    "data_group = data_fillna.groupby(\n",
    "['Sentence #'],as_index=False\n",
    ")['Word', 'POS', 'Tag', 'Word_idx', 'Tag_idx'].agg(lambda x: list(x))\n",
    "# Visualise data\n",
    "data_group.head()"
   ]
  },
  {
   "cell_type": "code",
   "execution_count": 141,
   "id": "automated-vinyl",
   "metadata": {
    "ExecuteTime": {
     "end_time": "2021-03-12T15:10:49.002430Z",
     "start_time": "2021-03-12T15:10:49.001100Z"
    }
   },
   "outputs": [],
   "source": [
    "from sklearn.model_selection import train_test_split\n",
    "from keras.preprocessing.sequence import pad_sequences\n",
    "from keras.utils import to_categorical"
   ]
  },
  {
   "cell_type": "code",
   "execution_count": 142,
   "id": "fitting-tract",
   "metadata": {
    "ExecuteTime": {
     "end_time": "2021-03-12T15:10:49.028193Z",
     "start_time": "2021-03-12T15:10:49.003964Z"
    }
   },
   "outputs": [
    {
     "name": "stdout",
     "output_type": "stream",
     "text": [
      "train_tokens length: 1701 \n",
      "train_tokens length: 1701 \n",
      "test_tokens length: 253 \n",
      "test_tags: 253 \n",
      "val_tokens: 567 \n",
      "val_tags: 567\n"
     ]
    }
   ],
   "source": [
    "def get_pad_train_test_val(data_group, data):\n",
    "\n",
    "    #get max token and tag length\n",
    "    n_token = len(list(set(data['Word'].to_list())))\n",
    "    n_tag = len(list(set(data['Tag'].to_list())))\n",
    "\n",
    "    #Pad tokens (X var)    \n",
    "    tokens = data_group['Word_idx'].tolist()\n",
    "    maxlen = max([len(s) for s in tokens])\n",
    "    pad_tokens = pad_sequences(tokens, maxlen=maxlen, dtype='int32', padding='post', value= n_token - 1)\n",
    "\n",
    "    #Pad Tags (y var) and convert it into one hot encoding\n",
    "    tags = data_group['Tag_idx'].tolist()\n",
    "    pad_tags = pad_sequences(tags, maxlen=maxlen, dtype='int32', padding='post', value= tag2idx[\"O\"])\n",
    "    n_tags = len(tag2idx)\n",
    "    pad_tags = [to_categorical(i, num_classes=n_tags) for i in pad_tags]\n",
    "    \n",
    "    #Split train, test and validation set\n",
    "    tokens_, test_tokens, tags_, test_tags = train_test_split(pad_tokens, pad_tags, test_size=0.1, train_size=0.9, random_state=2020)\n",
    "    train_tokens, val_tokens, train_tags, val_tags = train_test_split(tokens_,tags_,test_size = 0.25,train_size =0.75, random_state=2020)\n",
    "\n",
    "    print(\n",
    "        'train_tokens length:', len(train_tokens),\n",
    "        '\\ntrain_tokens length:', len(train_tokens),\n",
    "        '\\ntest_tokens length:', len(test_tokens),\n",
    "        '\\ntest_tags:', len(test_tags),\n",
    "        '\\nval_tokens:', len(val_tokens),\n",
    "        '\\nval_tags:', len(val_tags),\n",
    "    )\n",
    "    \n",
    "    return train_tokens, val_tokens, test_tokens, train_tags, val_tags, test_tags\n",
    "\n",
    "train_tokens, val_tokens, test_tokens, train_tags, val_tags, test_tags = get_pad_train_test_val(data_group, data)"
   ]
  },
  {
   "cell_type": "markdown",
   "id": "equal-alpha",
   "metadata": {},
   "source": [
    "## Build the model architecture"
   ]
  },
  {
   "cell_type": "code",
   "execution_count": 143,
   "id": "heated-intellectual",
   "metadata": {
    "ExecuteTime": {
     "end_time": "2021-03-12T15:10:49.030802Z",
     "start_time": "2021-03-12T15:10:49.029267Z"
    }
   },
   "outputs": [],
   "source": [
    "import numpy as np\n",
    "import tensorflow\n",
    "from tensorflow.keras import Sequential, Model, Input\n",
    "from tensorflow.keras.layers import LSTM, Embedding, Dense, TimeDistributed, Dropout, Bidirectional\n",
    "from tensorflow.keras.utils import plot_model"
   ]
  },
  {
   "cell_type": "code",
   "execution_count": 144,
   "id": "imperial-filter",
   "metadata": {
    "ExecuteTime": {
     "end_time": "2021-03-12T15:10:49.134046Z",
     "start_time": "2021-03-12T15:10:49.031472Z"
    }
   },
   "outputs": [],
   "source": [
    "from numpy.random import seed\n",
    "seed(1)\n",
    "tensorflow.random.set_seed(2)"
   ]
  },
  {
   "cell_type": "code",
   "execution_count": 145,
   "id": "accepted-request",
   "metadata": {
    "ExecuteTime": {
     "end_time": "2021-03-12T15:10:49.137540Z",
     "start_time": "2021-03-12T15:10:49.134846Z"
    }
   },
   "outputs": [
    {
     "name": "stdout",
     "output_type": "stream",
     "text": [
      "input_dim:  3346 \n",
      "output_dim:  64 \n",
      "input_length:  15 \n",
      "n_tags:  11\n"
     ]
    }
   ],
   "source": [
    "input_dim = len(list(set(data['Word'].to_list())))+1\n",
    "output_dim = 64\n",
    "input_length = max([len(s) for s in data_group['Word_idx'].tolist()])\n",
    "n_tags = len(tag2idx)\n",
    "print('input_dim: ', input_dim, '\\noutput_dim: ', output_dim,\n",
    "      '\\ninput_length: ', input_length, '\\nn_tags: ', n_tags)"
   ]
  },
  {
   "cell_type": "code",
   "execution_count": 146,
   "id": "affected-needle",
   "metadata": {
    "ExecuteTime": {
     "end_time": "2021-03-12T15:10:49.139433Z",
     "start_time": "2021-03-12T15:10:49.138228Z"
    }
   },
   "outputs": [],
   "source": [
    "import tensorflow_addons as tfa"
   ]
  },
  {
   "cell_type": "code",
   "execution_count": 147,
   "id": "regular-desire",
   "metadata": {
    "ExecuteTime": {
     "end_time": "2021-03-12T15:10:49.142313Z",
     "start_time": "2021-03-12T15:10:49.140070Z"
    }
   },
   "outputs": [],
   "source": [
    "def get_bilstm_lstm_model():\n",
    "    model = Sequential()\n",
    "\n",
    "    # Add Embedding layer\n",
    "    model.add(Embedding(input_dim=input_dim,\n",
    "                        output_dim=output_dim, input_length=input_length))\n",
    "\n",
    "    # Add bidirectional LSTM\n",
    "    model.add(Bidirectional(LSTM(units=output_dim, return_sequences=True,\n",
    "                                 dropout=0.2, recurrent_dropout=0.2), merge_mode='concat'))\n",
    "\n",
    "    # Add LSTM\n",
    "    model.add(LSTM(units=output_dim, return_sequences=True,\n",
    "                   dropout=0.5, recurrent_dropout=0.5))\n",
    "\n",
    "    # Add timeDistributed Layer\n",
    "    model.add(TimeDistributed(Dense(n_tags, activation=\"relu\")))\n",
    "\n",
    "    # Optimiser\n",
    "    # adam = k.optimizers.Adam(lr=0.0005, beta_1=0.9, beta_2=0.999)\n",
    "\n",
    "    # Compile model\n",
    "    model.compile(loss='categorical_crossentropy',\n",
    "                  optimizer='adam', metrics=['accuracy'])\n",
    "    model.summary()\n",
    "\n",
    "    return model"
   ]
  },
  {
   "cell_type": "code",
   "execution_count": 148,
   "id": "bigger-portuguese",
   "metadata": {
    "ExecuteTime": {
     "end_time": "2021-03-12T15:10:49.144740Z",
     "start_time": "2021-03-12T15:10:49.143016Z"
    }
   },
   "outputs": [],
   "source": [
    "def train_model(X, y, model):\n",
    "    loss = list()\n",
    "    for i in range(25):\n",
    "        # fit model for one epoch on this sequence\n",
    "        hist = model.fit(X, y, batch_size=1000, verbose=1, epochs=1, validation_split=0.2)\n",
    "        loss.append(hist.history['loss'][0])\n",
    "    return loss"
   ]
  },
  {
   "cell_type": "code",
   "execution_count": 149,
   "id": "nonprofit-minute",
   "metadata": {
    "ExecuteTime": {
     "end_time": "2021-03-12T15:10:49.708041Z",
     "start_time": "2021-03-12T15:10:49.145379Z"
    }
   },
   "outputs": [
    {
     "name": "stdout",
     "output_type": "stream",
     "text": [
      "Model: \"sequential_16\"\n",
      "_________________________________________________________________\n",
      "Layer (type)                 Output Shape              Param #   \n",
      "=================================================================\n",
      "embedding_16 (Embedding)     (None, 15, 64)            214144    \n",
      "_________________________________________________________________\n",
      "bidirectional_16 (Bidirectio (None, 15, 128)           66048     \n",
      "_________________________________________________________________\n",
      "lstm_33 (LSTM)               (None, 15, 64)            49408     \n",
      "_________________________________________________________________\n",
      "time_distributed_16 (TimeDis (None, 15, 11)            715       \n",
      "=================================================================\n",
      "Total params: 330,315\n",
      "Trainable params: 330,315\n",
      "Non-trainable params: 0\n",
      "_________________________________________________________________\n"
     ]
    },
    {
     "data": {
      "image/png": "[encoded data removed]",
      "text/plain": [
       "<IPython.core.display.Image object>"
      ]
     },
     "execution_count": 149,
     "metadata": {},
     "output_type": "execute_result"
    }
   ],
   "source": [
    "model_bilstm_lstm = get_bilstm_lstm_model()\n",
    "plot_model(model_bilstm_lstm)"
   ]
  },
  {
   "cell_type": "code",
   "execution_count": 150,
   "id": "protecting-partition",
   "metadata": {
    "ExecuteTime": {
     "end_time": "2021-03-12T15:11:04.282460Z",
     "start_time": "2021-03-12T15:10:49.709035Z"
    },
    "scrolled": true
   },
   "outputs": [
    {
     "name": "stdout",
     "output_type": "stream",
     "text": [
      "2/2 [==============================] - 4s 470ms/step - loss: nan - accuracy: 0.2000 - val_loss: 1.7907 - val_accuracy: 0.8612\n",
      "2/2 [==============================] - 1s 230ms/step - loss: 1.8037 - accuracy: 0.8609 - val_loss: 1.5797 - val_accuracy: 0.8612\n",
      "2/2 [==============================] - 0s 187ms/step - loss: 1.6168 - accuracy: 0.8640 - val_loss: 1.4264 - val_accuracy: 0.8612\n",
      "2/2 [==============================] - 0s 176ms/step - loss: 1.4299 - accuracy: 0.8640 - val_loss: 1.2892 - val_accuracy: 0.8612\n",
      "2/2 [==============================] - 0s 172ms/step - loss: 1.3212 - accuracy: 0.8639 - val_loss: 1.2116 - val_accuracy: 0.8612\n",
      "2/2 [==============================] - 0s 171ms/step - loss: 1.2322 - accuracy: 0.8640 - val_loss: 1.1187 - val_accuracy: 0.8612\n",
      "2/2 [==============================] - 0s 172ms/step - loss: 1.1199 - accuracy: 0.8640 - val_loss: 0.8701 - val_accuracy: 0.8612\n",
      "2/2 [==============================] - 0s 177ms/step - loss: 0.9988 - accuracy: 0.8640 - val_loss: 0.8248 - val_accuracy: 0.8612\n",
      "2/2 [==============================] - 0s 174ms/step - loss: 0.9376 - accuracy: 0.8640 - val_loss: 0.7580 - val_accuracy: 0.8612\n",
      "2/2 [==============================] - 0s 171ms/step - loss: 0.8884 - accuracy: 0.8640 - val_loss: 0.6960 - val_accuracy: 0.8612\n",
      "2/2 [==============================] - 0s 184ms/step - loss: 0.8370 - accuracy: 0.8640 - val_loss: 0.6915 - val_accuracy: 0.8612\n",
      "2/2 [==============================] - 0s 177ms/step - loss: 0.8080 - accuracy: 0.8639 - val_loss: 0.6777 - val_accuracy: 0.8612\n",
      "2/2 [==============================] - 0s 176ms/step - loss: 0.7784 - accuracy: 0.8638 - val_loss: 0.6632 - val_accuracy: 0.8612\n",
      "2/2 [==============================] - 0s 176ms/step - loss: 0.7568 - accuracy: 0.8639 - val_loss: 0.6625 - val_accuracy: 0.8612\n",
      "2/2 [==============================] - 0s 178ms/step - loss: 0.7440 - accuracy: 0.8637 - val_loss: 0.6750 - val_accuracy: 0.8612\n",
      "2/2 [==============================] - 0s 175ms/step - loss: 0.7388 - accuracy: 0.8638 - val_loss: 0.6643 - val_accuracy: 0.8612\n",
      "2/2 [==============================] - 0s 178ms/step - loss: 0.7209 - accuracy: 0.8639 - val_loss: 0.6502 - val_accuracy: 0.8612\n",
      "2/2 [==============================] - 0s 189ms/step - loss: 0.6932 - accuracy: 0.8637 - val_loss: 0.6204 - val_accuracy: 0.8612\n",
      "2/2 [==============================] - 0s 199ms/step - loss: 0.6838 - accuracy: 0.8639 - val_loss: 0.5819 - val_accuracy: 0.8612\n",
      "2/2 [==============================] - 0s 181ms/step - loss: 0.6625 - accuracy: 0.8637 - val_loss: 0.5615 - val_accuracy: 0.8612\n",
      "2/2 [==============================] - 0s 184ms/step - loss: 0.6653 - accuracy: 0.8639 - val_loss: 0.5410 - val_accuracy: 0.8612\n",
      "2/2 [==============================] - 0s 188ms/step - loss: 0.6418 - accuracy: 0.8638 - val_loss: 0.5296 - val_accuracy: 0.8612\n",
      "2/2 [==============================] - 0s 182ms/step - loss: 0.6372 - accuracy: 0.8639 - val_loss: 0.5232 - val_accuracy: 0.8612\n",
      "2/2 [==============================] - 0s 182ms/step - loss: 0.6180 - accuracy: 0.8638 - val_loss: 0.5177 - val_accuracy: 0.8612\n",
      "2/2 [==============================] - 0s 192ms/step - loss: 0.6262 - accuracy: 0.8640 - val_loss: 0.5127 - val_accuracy: 0.8612\n"
     ]
    }
   ],
   "source": [
    "results['with_add_lstm'] = train_model(train_tokens, np.array(train_tags), model_bilstm_lstm)"
   ]
  },
  {
   "cell_type": "code",
   "execution_count": 151,
   "id": "close-scene",
   "metadata": {
    "ExecuteTime": {
     "end_time": "2021-03-12T15:11:04.348404Z",
     "start_time": "2021-03-12T15:11:04.283149Z"
    }
   },
   "outputs": [
    {
     "data": {
      "image/png": "[encoded data removed]",
      "text/plain": [
       "<Figure size 432x288 with 1 Axes>"
      ]
     },
     "metadata": {
      "needs_background": "light"
     },
     "output_type": "display_data"
    }
   ],
   "source": [
    "import matplotlib.pyplot as plt\n",
    "plt.plot(results['with_add_lstm'])\n",
    "plt.xlabel('Epochs');\n",
    "plt.ylabel('Loss');"
   ]
  },
  {
   "cell_type": "code",
   "execution_count": 153,
   "id": "false-ethnic",
   "metadata": {
    "ExecuteTime": {
     "end_time": "2021-03-12T15:11:08.882503Z",
     "start_time": "2021-03-12T15:11:08.871667Z"
    }
   },
   "outputs": [
    {
     "data": {
      "text/html": [
       "<div>\n",
       "<style scoped>\n",
       "    .dataframe tbody tr th:only-of-type {\n",
       "        vertical-align: middle;\n",
       "    }\n",
       "\n",
       "    .dataframe tbody tr th {\n",
       "        vertical-align: top;\n",
       "    }\n",
       "\n",
       "    .dataframe thead th {\n",
       "        text-align: right;\n",
       "    }\n",
       "</style>\n",
       "<table border=\"1\" class=\"dataframe\">\n",
       "  <thead>\n",
       "    <tr style=\"text-align: right;\">\n",
       "      <th></th>\n",
       "      <th>with_add_lstm</th>\n",
       "    </tr>\n",
       "  </thead>\n",
       "  <tbody>\n",
       "    <tr>\n",
       "      <th>0</th>\n",
       "      <td>NaN</td>\n",
       "    </tr>\n",
       "    <tr>\n",
       "      <th>1</th>\n",
       "      <td>1.803707</td>\n",
       "    </tr>\n",
       "    <tr>\n",
       "      <th>2</th>\n",
       "      <td>1.616841</td>\n",
       "    </tr>\n",
       "    <tr>\n",
       "      <th>3</th>\n",
       "      <td>1.429892</td>\n",
       "    </tr>\n",
       "    <tr>\n",
       "      <th>4</th>\n",
       "      <td>1.321222</td>\n",
       "    </tr>\n",
       "    <tr>\n",
       "      <th>5</th>\n",
       "      <td>1.232188</td>\n",
       "    </tr>\n",
       "    <tr>\n",
       "      <th>6</th>\n",
       "      <td>1.119928</td>\n",
       "    </tr>\n",
       "    <tr>\n",
       "      <th>7</th>\n",
       "      <td>0.998792</td>\n",
       "    </tr>\n",
       "    <tr>\n",
       "      <th>8</th>\n",
       "      <td>0.937622</td>\n",
       "    </tr>\n",
       "    <tr>\n",
       "      <th>9</th>\n",
       "      <td>0.888449</td>\n",
       "    </tr>\n",
       "    <tr>\n",
       "      <th>10</th>\n",
       "      <td>0.836984</td>\n",
       "    </tr>\n",
       "    <tr>\n",
       "      <th>11</th>\n",
       "      <td>0.808027</td>\n",
       "    </tr>\n",
       "    <tr>\n",
       "      <th>12</th>\n",
       "      <td>0.778441</td>\n",
       "    </tr>\n",
       "    <tr>\n",
       "      <th>13</th>\n",
       "      <td>0.756815</td>\n",
       "    </tr>\n",
       "    <tr>\n",
       "      <th>14</th>\n",
       "      <td>0.744032</td>\n",
       "    </tr>\n",
       "    <tr>\n",
       "      <th>15</th>\n",
       "      <td>0.738824</td>\n",
       "    </tr>\n",
       "    <tr>\n",
       "      <th>16</th>\n",
       "      <td>0.720907</td>\n",
       "    </tr>\n",
       "    <tr>\n",
       "      <th>17</th>\n",
       "      <td>0.693241</td>\n",
       "    </tr>\n",
       "    <tr>\n",
       "      <th>18</th>\n",
       "      <td>0.683823</td>\n",
       "    </tr>\n",
       "    <tr>\n",
       "      <th>19</th>\n",
       "      <td>0.662507</td>\n",
       "    </tr>\n",
       "    <tr>\n",
       "      <th>20</th>\n",
       "      <td>0.665344</td>\n",
       "    </tr>\n",
       "    <tr>\n",
       "      <th>21</th>\n",
       "      <td>0.641846</td>\n",
       "    </tr>\n",
       "    <tr>\n",
       "      <th>22</th>\n",
       "      <td>0.637203</td>\n",
       "    </tr>\n",
       "    <tr>\n",
       "      <th>23</th>\n",
       "      <td>0.618038</td>\n",
       "    </tr>\n",
       "    <tr>\n",
       "      <th>24</th>\n",
       "      <td>0.626234</td>\n",
       "    </tr>\n",
       "  </tbody>\n",
       "</table>\n",
       "</div>"
      ],
      "text/plain": [
       "    with_add_lstm\n",
       "0             NaN\n",
       "1        1.803707\n",
       "2        1.616841\n",
       "3        1.429892\n",
       "4        1.321222\n",
       "5        1.232188\n",
       "6        1.119928\n",
       "7        0.998792\n",
       "8        0.937622\n",
       "9        0.888449\n",
       "10       0.836984\n",
       "11       0.808027\n",
       "12       0.778441\n",
       "13       0.756815\n",
       "14       0.744032\n",
       "15       0.738824\n",
       "16       0.720907\n",
       "17       0.693241\n",
       "18       0.683823\n",
       "19       0.662507\n",
       "20       0.665344\n",
       "21       0.641846\n",
       "22       0.637203\n",
       "23       0.618038\n",
       "24       0.626234"
      ]
     },
     "execution_count": 153,
     "metadata": {},
     "output_type": "execute_result"
    }
   ],
   "source": [
    "results"
   ]
  }
 ],
 "metadata": {
  "kernelspec": {
   "display_name": "Python 3",
   "language": "python",
   "name": "python3"
  },
  "language_info": {
   "codemirror_mode": {
    "name": "ipython",
    "version": 3
   },
   "file_extension": ".py",
   "mimetype": "text/x-python",
   "name": "python",
   "nbconvert_exporter": "python",
   "pygments_lexer": "ipython3",
   "version": "3.8.8"
  }
 },
 "nbformat": 4,
 "nbformat_minor": 5
}
